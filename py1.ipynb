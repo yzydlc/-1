{
 "cells": [
  {
   "cell_type": "code",
   "execution_count": 134,
   "id": "9df35fd2",
   "metadata": {},
   "outputs": [
    {
     "data": {
      "text/plain": [
       "Country\n",
       "AFGHANISTAN                             13068.0\n",
       "ALBANIA                                  3092.0\n",
       "ALGERIA                                 39339.0\n",
       "ANTARCTICA                                  0.0\n",
       "ANTIGUA AND BARBUDA                         0.0\n",
       "                                         ...   \n",
       "VENEZUELA                               44480.0\n",
       "VIETNAM                                     0.0\n",
       "WALLIS AND FUTUNA (FRENCH TERRITORY)        5.0\n",
       "YEMEN                                    4192.0\n",
       "ZAMBIA                                      0.0\n",
       "Name: Deaths, Length: 156, dtype: float64"
      ]
     },
     "execution_count": 134,
     "metadata": {},
     "output_type": "execute_result"
    }
   ],
   "source": [
    "#1.1 输出每个国家公元前2150年以来的伤亡人数总和\n",
    "import pandas as pd\n",
    "Sig_Eqs=pd.read_csv('earthquakes-2021-10-13_13-22-50_+0800.tsv',sep='\\t')\n",
    "Sig_Eqs.groupby('Country')['Deaths'].sum()"
   ]
  },
  {
   "cell_type": "code",
   "execution_count": 135,
   "id": "a31d898a",
   "metadata": {},
   "outputs": [
    {
     "data": {
      "text/plain": [
       "Country\n",
       "CHINA         2074900.0\n",
       "TURKEY        1074769.0\n",
       "IRAN          1011437.0\n",
       "SYRIA          439224.0\n",
       "ITALY          434863.0\n",
       "HAITI          323472.0\n",
       "AZERBAIJAN     317219.0\n",
       "JAPAN          278138.0\n",
       "ARMENIA        191890.0\n",
       "PAKISTAN       148783.0\n",
       "Name: Deaths, dtype: float64"
      ]
     },
     "execution_count": 135,
     "metadata": {},
     "output_type": "execute_result"
    }
   ],
   "source": [
    "#1.1 输出前十个人口伤亡最多的国家\n",
    "Sig_Eqs.groupby('Country')['Deaths'].sum().sort_values(ascending=False).head(10)"
   ]
  },
  {
   "cell_type": "code",
   "execution_count": 136,
   "id": "6543b9db",
   "metadata": {},
   "outputs": [
    {
     "data": {
      "text/plain": [
       "[<matplotlib.lines.Line2D at 0x1c17c718f70>]"
      ]
     },
     "execution_count": 136,
     "metadata": {},
     "output_type": "execute_result"
    },
    {
     "data": {
      "image/png": "[encoded data removed]",
      "text/plain": [
       "<Figure size 432x288 with 1 Axes>"
      ]
     },
     "metadata": {
      "needs_background": "light"
     },
     "output_type": "display_data"
    }
   ],
   "source": [
    "#1.2\n",
    "import matplotlib.pyplot as plt\n",
    "Sig_Eqs[Sig_Eqs['Mag']>6.0]['Mag'].count()\n",
    "met=Sig_Eqs[Sig_Eqs['Mag']>6.0]\n",
    "plt.plot(met['Year'],met['Mag'])"
   ]
  },
  {
   "cell_type": "code",
   "execution_count": 137,
   "id": "9d66f6ae",
   "metadata": {},
   "outputs": [
    {
     "data": {
      "text/plain": [
       "2870"
      ]
     },
     "execution_count": 137,
     "metadata": {},
     "output_type": "execute_result"
    }
   ],
   "source": [
    "Sig_Eqs[Sig_Eqs['Mag']>6.0]['Mag'].count()"
   ]
  },
  {
   "cell_type": "code",
   "execution_count": 138,
   "id": "076b7127",
   "metadata": {},
   "outputs": [
    {
     "name": "stdout",
     "output_type": "stream",
     "text": [
      "input the country's name：china\n"
     ]
    },
    {
     "data": {
      "text/plain": [
       "28    579\n",
       "Name: Total_Eqs, dtype: int64"
      ]
     },
     "execution_count": 138,
     "metadata": {},
     "output_type": "execute_result"
    }
   ],
   "source": [
    "#1.3\n",
    "def CountEq_LargestEq():\n",
    "    a=Sig_Eqs.groupby('Country')['Mag'].count()\n",
    "    b=Sig_Eqs.groupby('Country')['Mag'].max()\n",
    "    c = {'Country':a.index,'Total_Eqs':a.values}\n",
    "    d = pd.DataFrame(c)\n",
    "    e = {'Country':b.index,'Max_Eqs':b.values}\n",
    "    f = pd.DataFrame(e)\n",
    "    g=d.merge(f,on='Country')\n",
    "    return g\n",
    "name=input(\"input the country's name：\")\n",
    "Country_name=name.upper()\n",
    "df=CountEq_LargestEq()\n",
    "#The total number of earthquakes since 2150 B.C. in the given country is：\n",
    "df[df['Country']==Country_name]['Total_Eqs']"
   ]
  },
  {
   "cell_type": "code",
   "execution_count": 139,
   "id": "a9acecf0",
   "metadata": {},
   "outputs": [
    {
     "data": {
      "text/plain": [
       "973    1668.0\n",
       "Name: Year, dtype: float64"
      ]
     },
     "execution_count": 139,
     "metadata": {},
     "output_type": "execute_result"
    }
   ],
   "source": [
    "#The date of the largest earthquake ever happened in the given country is:\n",
    "b=Sig_Eqs.groupby('Country')['Mag'].max()\n",
    "Sig_Eqs[(Sig_Eqs['Country']==Country_name)&(Sig_Eqs['Mag']==b[Country_name])]['Year']"
   ]
  },
  {
   "cell_type": "code",
   "execution_count": 140,
   "id": "0a4acaaa",
   "metadata": {},
   "outputs": [
    {
     "data": {
      "text/html": [
       "<div>\n",
       "<style scoped>\n",
       "    .dataframe tbody tr th:only-of-type {\n",
       "        vertical-align: middle;\n",
       "    }\n",
       "\n",
       "    .dataframe tbody tr th {\n",
       "        vertical-align: top;\n",
       "    }\n",
       "\n",
       "    .dataframe thead th {\n",
       "        text-align: right;\n",
       "    }\n",
       "</style>\n",
       "<table border=\"1\" class=\"dataframe\">\n",
       "  <thead>\n",
       "    <tr style=\"text-align: right;\">\n",
       "      <th></th>\n",
       "      <th>Country</th>\n",
       "      <th>Total_Eqs</th>\n",
       "      <th>Max_Eqs</th>\n",
       "    </tr>\n",
       "  </thead>\n",
       "  <tbody>\n",
       "    <tr>\n",
       "      <th>28</th>\n",
       "      <td>CHINA</td>\n",
       "      <td>579</td>\n",
       "      <td>8.5</td>\n",
       "    </tr>\n",
       "    <tr>\n",
       "      <th>71</th>\n",
       "      <td>JAPAN</td>\n",
       "      <td>346</td>\n",
       "      <td>9.1</td>\n",
       "    </tr>\n",
       "    <tr>\n",
       "      <th>64</th>\n",
       "      <td>INDONESIA</td>\n",
       "      <td>321</td>\n",
       "      <td>9.1</td>\n",
       "    </tr>\n",
       "    <tr>\n",
       "      <th>65</th>\n",
       "      <td>IRAN</td>\n",
       "      <td>254</td>\n",
       "      <td>7.9</td>\n",
       "    </tr>\n",
       "    <tr>\n",
       "      <th>147</th>\n",
       "      <td>USA</td>\n",
       "      <td>218</td>\n",
       "      <td>9.2</td>\n",
       "    </tr>\n",
       "    <tr>\n",
       "      <th>...</th>\n",
       "      <td>...</td>\n",
       "      <td>...</td>\n",
       "      <td>...</td>\n",
       "    </tr>\n",
       "    <tr>\n",
       "      <th>90</th>\n",
       "      <td>MONTSERRAT</td>\n",
       "      <td>0</td>\n",
       "      <td>NaN</td>\n",
       "    </tr>\n",
       "    <tr>\n",
       "      <th>113</th>\n",
       "      <td>SAINT LUCIA</td>\n",
       "      <td>0</td>\n",
       "      <td>NaN</td>\n",
       "    </tr>\n",
       "    <tr>\n",
       "      <th>114</th>\n",
       "      <td>SAINT VINCENT AND THE GRENADINES</td>\n",
       "      <td>0</td>\n",
       "      <td>NaN</td>\n",
       "    </tr>\n",
       "    <tr>\n",
       "      <th>128</th>\n",
       "      <td>SRI LANKA</td>\n",
       "      <td>0</td>\n",
       "      <td>NaN</td>\n",
       "    </tr>\n",
       "    <tr>\n",
       "      <th>146</th>\n",
       "      <td>URUGUAY</td>\n",
       "      <td>0</td>\n",
       "      <td>NaN</td>\n",
       "    </tr>\n",
       "  </tbody>\n",
       "</table>\n",
       "<p>156 rows × 3 columns</p>\n",
       "</div>"
      ],
      "text/plain": [
       "                              Country  Total_Eqs  Max_Eqs\n",
       "28                              CHINA        579      8.5\n",
       "71                              JAPAN        346      9.1\n",
       "64                          INDONESIA        321      9.1\n",
       "65                               IRAN        254      7.9\n",
       "147                               USA        218      9.2\n",
       "..                                ...        ...      ...\n",
       "90                         MONTSERRAT          0      NaN\n",
       "113                       SAINT LUCIA          0      NaN\n",
       "114  SAINT VINCENT AND THE GRENADINES          0      NaN\n",
       "128                         SRI LANKA          0      NaN\n",
       "146                           URUGUAY          0      NaN\n",
       "\n",
       "[156 rows x 3 columns]"
      ]
     },
     "execution_count": 140,
     "metadata": {},
     "output_type": "execute_result"
    }
   ],
   "source": [
    "#降序排列所有国家\n",
    "CountEq_LargestEq().sort_values(['Total_Eqs','Max_Eqs'],ascending=[0,0])"
   ]
  },
  {
   "cell_type": "code",
   "execution_count": null,
   "id": "19b7877d",
   "metadata": {},
   "outputs": [],
   "source": []
  },
  {
   "cell_type": "code",
   "execution_count": null,
   "id": "596e4cb4",
   "metadata": {},
   "outputs": [],
   "source": []
  },
  {
   "cell_type": "code",
   "execution_count": null,
   "id": "f3eb9979",
   "metadata": {},
   "outputs": [],
   "source": []
  },
  {
   "cell_type": "code",
   "execution_count": null,
   "id": "dbce795a",
   "metadata": {},
   "outputs": [],
   "source": []
  },
  {
   "cell_type": "code",
   "execution_count": null,
   "id": "130b3621",
   "metadata": {},
   "outputs": [],
   "source": []
  },
  {
   "cell_type": "code",
   "execution_count": null,
   "id": "8a9d8143",
   "metadata": {},
   "outputs": [],
   "source": []
  },
  {
   "cell_type": "code",
   "execution_count": null,
   "id": "bf2be111",
   "metadata": {},
   "outputs": [],
   "source": []
  },
  {
   "cell_type": "code",
   "execution_count": null,
   "id": "c2149fbe",
   "metadata": {},
   "outputs": [],
   "source": []
  }
 ],
 "metadata": {
  "kernelspec": {
   "display_name": "Python 3",
   "language": "python",
   "name": "python3"
  },
  "language_info": {
   "codemirror_mode": {
    "name": "ipython",
    "version": 3
   },
   "file_extension": ".py",
   "mimetype": "text/x-python",
   "name": "python",
   "nbconvert_exporter": "python",
   "pygments_lexer": "ipython3",
   "version": "3.8.8"
  }
 },
 "nbformat": 4,
 "nbformat_minor": 5
}
